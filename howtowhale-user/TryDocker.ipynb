{
 "cells": [
  {
   "cell_type": "markdown",
   "metadata": {},
   "source": [
    "# Run your first Docker container\n",
    "\n",
    "Let's run a Docker container:"
   ]
  },
  {
   "cell_type": "code",
   "execution_count": null,
   "metadata": {
    "collapsed": false
   },
   "outputs": [],
   "source": [
    "docker run --rm hello-world"
   ]
  },
  {
   "cell_type": "markdown",
   "metadata": {},
   "source": [
    "Congratulations! You are using Docker like a boss. Let's break down what just happened:\n",
    "1. The `run` command told Docker to do two things: create a new container and start it.\n",
    "2. The `--rm` parameter is optional, and told Docker to remove the container once it is finished executing.\n",
    "3. The `hello-world` parameter told Docker to base the container on an _image_ named \"hello-world\".\n",
    "4. The container started, printed the output above and then stopped/exited."
   ]
  },
  {
   "cell_type": "markdown",
   "metadata": {},
   "source": [
    "# Run a website in a Docker container\n",
    "hello-world is a good start but let's make something a little more fun. Next, we'll run a container that will keep running, serving a website:"
   ]
  },
  {
   "cell_type": "code",
   "execution_count": null,
   "metadata": {
    "collapsed": false
   },
   "outputs": [],
   "source": [
    "docker run --detach --name whoa --publish 80:8080 rackerlabs/whoa"
   ]
  },
  {
   "cell_type": "markdown",
   "metadata": {},
   "source": [
    "That was similar to running hello-world, but with a few new parameters.\n",
    "\n",
    "* `--name whoa` ... steal from diff\n",
    "* `--detach` told Docker to run the container in the background and print the container Id.\n",
    "* `publish 80:8080` told Docker to publicly expose port 8080 from the container as port 80. By default a container is walled-off from the world, and this enables us to view the website hosted by our container."
   ]
  },
  {
   "cell_type": "markdown",
   "metadata": {
    "collapsed": false
   },
   "source": [
    "Now, let's get some more information on your container:"
   ]
  },
  {
   "cell_type": "code",
   "execution_count": null,
   "metadata": {
    "collapsed": false
   },
   "outputs": [],
   "source": [
    "docker ps --filter=\"name=whoa\""
   ]
  },
  {
   "cell_type": "markdown",
   "metadata": {},
   "source": [
    "The `docker ps` command is similar to the ps command on Mac or Linux. It prints information about every container on your Docker host. \n",
    "\n",
    "* `--all` told Docker to include stopped/exited containers.\n",
    "* `--filter=\"name=whoa\"` limited the results to just our whoa container.\n",
    "\n",
    "Let's look at the info we have to work with:\n",
    "* Container Id - The unique id assigned to the container.\n",
    "* Image - The name of the image that the container is based upon.\n",
    "* Command - The command that was run when the container started.\n",
    "* Created - How long ago the container was created.\n",
    "* Status - Specifies if the container is still running, or if it has exited (stopped).\n",
    "* Ports - All ports that are publicly exposed on the container. In this case, we are exposing port 80.\n",
    "* Names - The name of the Docker host and container."
   ]
  },
  {
   "cell_type": "markdown",
   "metadata": {},
   "source": [
    "Notice that the whoa container is still running, this let us leave off the **`--all`** parameter. Also since we used the **`--publish`** parameter, the public IP address and port of the container is listed.\n",
    "\n",
    "Now you could copy/paste that IP address from the `docker ps` output into your web browser, but here's a shortcut to build a link to the website hosted on the container. Run the command below and click on the link to take a peek at your website:"
   ]
  },
  {
   "cell_type": "code",
   "execution_count": null,
   "metadata": {
    "collapsed": false
   },
   "outputs": [],
   "source": [
    "echo http://$(docker port whoa 8080)"
   ]
  },
  {
   "cell_type": "markdown",
   "metadata": {},
   "source": [
    "Now that we are finished with our `whoa` container, let's remove it and free up port 80."
   ]
  },
  {
   "cell_type": "code",
   "execution_count": null,
   "metadata": {
    "collapsed": false
   },
   "outputs": [],
   "source": [
    "docker rm --force whoa"
   ]
  },
  {
   "cell_type": "markdown",
   "metadata": {},
   "source": [
    "The `docker rm` command deletes a container either by its name or id. Since our container was still running, we specified `--force` to tell Docker to first stop the container. When the command completes, it prints the names of any deleted containers."
   ]
  }
 ],
 "metadata": {
  "kernelspec": {
   "display_name": "Bash",
   "language": "bash",
   "name": "bash"
  },
  "language_info": {
   "codemirror_mode": "shell",
   "file_extension": ".sh",
   "mimetype": "text/x-sh",
   "name": "bash"
  }
 },
 "nbformat": 4,
 "nbformat_minor": 0
}
