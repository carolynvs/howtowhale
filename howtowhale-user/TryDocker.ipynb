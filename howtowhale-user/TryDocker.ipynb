{
 "cells": [
  {
   "cell_type": "markdown",
   "metadata": {},
   "source": [
    "# Load Your Docker Credentials\n",
    "The **`docker`** command uses environment variables to authenticate to a Docker host. Run the following command to load the credentials for your Carina HowToWhale cluster."
   ]
  },
  {
   "cell_type": "code",
   "execution_count": null,
   "metadata": {
    "collapsed": false
   },
   "outputs": [],
   "source": [
    "source /home/jovyan/.carina/clusters/$JPY_USER/howtowhale/docker.env"
   ]
  },
  {
   "cell_type": "markdown",
   "metadata": {},
   "source": [
    "The **`source`** command won't print any output. Print the **`DOCKER_HOST`** environment variable:"
   ]
  },
  {
   "cell_type": "code",
   "execution_count": null,
   "metadata": {
    "collapsed": false
   },
   "outputs": [],
   "source": [
    "echo $DOCKER_HOST"
   ]
  },
  {
   "cell_type": "markdown",
   "metadata": {},
   "source": [
    "# Run your first Docker container\n",
    "\n",
    "Now that you are connected to your Docker host (in this case a Carina cluster), let's run a container:"
   ]
  },
  {
   "cell_type": "code",
   "execution_count": null,
   "metadata": {
    "collapsed": false
   },
   "outputs": [],
   "source": [
    "docker run --name=\"hello-world\" hello-world"
   ]
  },
  {
   "cell_type": "markdown",
   "metadata": {},
   "source": [
    "Congratulations! You are using Docker like a boss. Let's break down what just happened:\n",
    "1. The **`run`** command told Docker to do two things: create a new container and start it.\n",
    "2. The **`--name=\"hello-world\"`** parameter is optional, giving our new container a name that we can use later to interact with the container. When the **`name`** parameter is omitted, Docker assigns a random name.\n",
    "3. The **`hello-world`** parameter told Docker to base the container on an _image_ named \"hello-world\".\n",
    "4. The container started, printed the output above and then stopped/exited.\n",
    "\n",
    "Check out the status of your hello-world container:"
   ]
  },
  {
   "cell_type": "code",
   "execution_count": null,
   "metadata": {
    "collapsed": false
   },
   "outputs": [],
   "source": [
    "docker ps --all --filter=\"name=hello-world\""
   ]
  },
  {
   "cell_type": "markdown",
   "metadata": {},
   "source": [
    "The **`docker ps`** command is similar to the ps command on Mac or Linux. It prints information about every container on your Docker host. The **`--all`** parameter told Docker to include stopped/exited containers and the **`--filter=\"name=hello-world\"`** parameter limited the results to just our hello-world container.\n",
    "\n",
    "Let's look at the info we have to work with:\n",
    "* Container Id - The unique id assigned to the container.\n",
    "* Image - The name of the image that the container is based upon.\n",
    "* Command - The command that was run when the container started.\n",
    "* Created - How long ago the container was created.\n",
    "* Status - Specifies if the container is still running, or if it has exited (stopped).\n",
    "* Ports - All ports that are publicly exposed on the container. In this case, nothing is published, so it's empty.\n",
    "* Names - The name of the Docker host and container.\n",
    "\n",
    "\n",
    "# Run a website in a Docker container\n",
    "hello-world is a good start but let's make something a little more fun. Next, we'll run a container that will keep running, serving a website:"
   ]
  },
  {
   "cell_type": "code",
   "execution_count": null,
   "metadata": {
    "collapsed": false
   },
   "outputs": [],
   "source": [
    "docker run --detach --name whoa --publish 80:8080 rackerlabs/whoa"
   ]
  },
  {
   "cell_type": "markdown",
   "metadata": {},
   "source": [
    "This is similar to running hello-world, but with a few new parameters. **`--detach`** told Docker to run the container in the background and print the container Id. **`publish 80:8080`** told Docker to publicly expose port 8080 on the container as port 80. By default a container is walled-off from the world, and this enables us to view the website hosted by our container.\n",
    "\n",
    "Check out the status of your whoa container:"
   ]
  },
  {
   "cell_type": "code",
   "execution_count": null,
   "metadata": {
    "collapsed": false
   },
   "outputs": [],
   "source": [
    "docker ps --filter=\"name=whoa\""
   ]
  },
  {
   "cell_type": "markdown",
   "metadata": {},
   "source": [
    "Notice that the whoa container is still running, this let us leave off the **`--all`** parameter. Also since we used the **`--publish`** parameter, the public IP address and port of the container is listed.\n",
    "\n",
    "Now you could copy/paste that into your web browser, but here's a nice shortcut to build a link to the website hosted on the container. Run the command below and click on the link to take a peek at your website:"
   ]
  },
  {
   "cell_type": "code",
   "execution_count": null,
   "metadata": {
    "collapsed": false
   },
   "outputs": [],
   "source": [
    "echo http://$(docker port whoa 8080)"
   ]
  }
 ],
 "metadata": {
  "kernelspec": {
   "display_name": "Bash",
   "language": "bash",
   "name": "bash"
  },
  "language_info": {
   "codemirror_mode": "shell",
   "file_extension": ".sh",
   "mimetype": "text/x-sh",
   "name": "bash"
  }
 },
 "nbformat": 4,
 "nbformat_minor": 0
}
